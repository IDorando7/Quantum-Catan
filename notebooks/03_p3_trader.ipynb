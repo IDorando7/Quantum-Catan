{
 "cells": [],
 "metadata": {
  "kernelspec": {
   "display_name": "Quantum Catan (venv)",
   "language": "python",
   "name": "quantum-catan"
  },
  "language_info": {
   "name": "python",
   "version": "3.12.3"
  }
 },
 "nbformat": 4,
 "nbformat_minor": 5
}
